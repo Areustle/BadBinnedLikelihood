{
 "cells": [
  {
   "cell_type": "code",
   "execution_count": 1,
   "metadata": {},
   "outputs": [],
   "source": [
    "from BinnedAnalysis import *"
   ]
  },
  {
   "cell_type": "code",
   "execution_count": 2,
   "metadata": {},
   "outputs": [],
   "source": [
    "obs = BinnedObs(srcMaps='../data/3C279_srcmaps.fits',\n",
    "                expCube='../data/3C279_ltcube.fits',\n",
    "                binnedExpMap='../data/3C279_expcube.fits',\n",
    "                irfs='CALDB')"
   ]
  },
  {
   "cell_type": "code",
   "execution_count": 5,
   "metadata": {},
   "outputs": [],
   "source": [
    "# I should work, even if run more than once. I am Idempotent.\n",
    "analysis = BinnedAnalysis(obs,srcModel='3C279_input_model.xml', optimizer='MINUIT')"
   ]
  },
  {
   "cell_type": "code",
   "execution_count": 6,
   "metadata": {},
   "outputs": [
    {
     "ename": "RuntimeError",
     "evalue": "SourceFactory::readXml:\nInput xml file, IDoNotExist.xml not parsed successfully.",
     "output_type": "error",
     "traceback": [
      "\u001b[0;31m---------------------------------------------------------------------------\u001b[0m",
      "\u001b[0;31mRuntimeError\u001b[0m                              Traceback (most recent call last)",
      "\u001b[0;32m<ipython-input-6-875e50878067>\u001b[0m in \u001b[0;36m<module>\u001b[0;34m()\u001b[0m\n\u001b[1;32m      1\u001b[0m \u001b[0;31m# I should not work\u001b[0m\u001b[0;34m\u001b[0m\u001b[0;34m\u001b[0m\u001b[0m\n\u001b[0;32m----> 2\u001b[0;31m \u001b[0manalysis\u001b[0m \u001b[0;34m=\u001b[0m \u001b[0mBinnedAnalysis\u001b[0m\u001b[0;34m(\u001b[0m\u001b[0mobs\u001b[0m\u001b[0;34m,\u001b[0m\u001b[0msrcModel\u001b[0m\u001b[0;34m=\u001b[0m\u001b[0;34m'IDoNotExist.xml'\u001b[0m\u001b[0;34m,\u001b[0m \u001b[0moptimizer\u001b[0m\u001b[0;34m=\u001b[0m\u001b[0;34m'MINUIT'\u001b[0m\u001b[0;34m)\u001b[0m\u001b[0;34m\u001b[0m\u001b[0m\n\u001b[0m",
      "\u001b[0;32m/home/fermi/astrosoft/sciencetools/x86_64-unknown-linux-gnu-libc2.12/lib/python/BinnedAnalysis.pyc\u001b[0m in \u001b[0;36m__init__\u001b[0;34m(self, binnedData, srcModel, optimizer, use_bl2, verbosity, psfcorr, wmap, config)\u001b[0m\n\u001b[1;32m    168\u001b[0m         \u001b[0mself\u001b[0m\u001b[0;34m.\u001b[0m\u001b[0mverbosity\u001b[0m \u001b[0;34m=\u001b[0m \u001b[0mverbosity\u001b[0m\u001b[0;34m\u001b[0m\u001b[0m\n\u001b[1;32m    169\u001b[0m         \u001b[0mself\u001b[0m\u001b[0;34m.\u001b[0m\u001b[0mlogLike\u001b[0m\u001b[0;34m.\u001b[0m\u001b[0minitOutputStreams\u001b[0m\u001b[0;34m(\u001b[0m\u001b[0;34m)\u001b[0m\u001b[0;34m\u001b[0m\u001b[0m\n\u001b[0;32m--> 170\u001b[0;31m         \u001b[0mself\u001b[0m\u001b[0;34m.\u001b[0m\u001b[0mlogLike\u001b[0m\u001b[0;34m.\u001b[0m\u001b[0mreadXml\u001b[0m\u001b[0;34m(\u001b[0m\u001b[0msrcModel\u001b[0m\u001b[0;34m,\u001b[0m \u001b[0m_funcFactory\u001b[0m\u001b[0;34m,\u001b[0m \u001b[0mFalse\u001b[0m\u001b[0;34m,\u001b[0m \u001b[0mTrue\u001b[0m\u001b[0;34m,\u001b[0m \u001b[0mFalse\u001b[0m\u001b[0;34m)\u001b[0m\u001b[0;34m\u001b[0m\u001b[0m\n\u001b[0m\u001b[1;32m    171\u001b[0m         \u001b[0mself\u001b[0m\u001b[0;34m.\u001b[0m\u001b[0mmodel\u001b[0m \u001b[0;34m=\u001b[0m \u001b[0mSourceModel\u001b[0m\u001b[0;34m(\u001b[0m\u001b[0mself\u001b[0m\u001b[0;34m.\u001b[0m\u001b[0mlogLike\u001b[0m\u001b[0;34m,\u001b[0m \u001b[0msrcModel\u001b[0m\u001b[0;34m)\u001b[0m\u001b[0;34m\u001b[0m\u001b[0m\n\u001b[1;32m    172\u001b[0m         \u001b[0mself\u001b[0m\u001b[0;34m.\u001b[0m\u001b[0menergies\u001b[0m \u001b[0;34m=\u001b[0m \u001b[0mnum\u001b[0m\u001b[0;34m.\u001b[0m\u001b[0marray\u001b[0m\u001b[0;34m(\u001b[0m\u001b[0mself\u001b[0m\u001b[0;34m.\u001b[0m\u001b[0mlogLike\u001b[0m\u001b[0;34m.\u001b[0m\u001b[0menergies\u001b[0m\u001b[0;34m(\u001b[0m\u001b[0;34m)\u001b[0m\u001b[0;34m)\u001b[0m\u001b[0;34m\u001b[0m\u001b[0m\n",
      "\u001b[0;32m/home/fermi/astrosoft/sciencetools/x86_64-unknown-linux-gnu-libc2.12/lib/python/pyLikelihood.pyc\u001b[0m in \u001b[0;36mreadXml\u001b[0;34m(*args)\u001b[0m\n\u001b[1;32m  12656\u001b[0m         \u001b[0mreadXml\u001b[0m\u001b[0;34m(\u001b[0m\u001b[0mself\u001b[0m\u001b[0;34m,\u001b[0m \u001b[0mstring\u001b[0m \u001b[0mxmlFile\u001b[0m\u001b[0;34m,\u001b[0m \u001b[0mFunctionFactory\u001b[0m \u001b[0mfuncFactory\u001b[0m\u001b[0;34m)\u001b[0m\u001b[0;34m\u001b[0m\u001b[0m\n\u001b[1;32m  12657\u001b[0m         \"\"\"\n\u001b[0;32m> 12658\u001b[0;31m         \u001b[0;32mreturn\u001b[0m \u001b[0mlib_pyLikelihood\u001b[0m\u001b[0;34m.\u001b[0m\u001b[0mBinnedLikelihood_readXml\u001b[0m\u001b[0;34m(\u001b[0m\u001b[0;34m*\u001b[0m\u001b[0margs\u001b[0m\u001b[0;34m)\u001b[0m\u001b[0;34m\u001b[0m\u001b[0m\n\u001b[0m\u001b[1;32m  12659\u001b[0m \u001b[0;34m\u001b[0m\u001b[0m\n\u001b[1;32m  12660\u001b[0m     \u001b[0;32mdef\u001b[0m \u001b[0maddSource\u001b[0m\u001b[0;34m(\u001b[0m\u001b[0;34m*\u001b[0m\u001b[0margs\u001b[0m\u001b[0;34m)\u001b[0m\u001b[0;34m:\u001b[0m\u001b[0;34m\u001b[0m\u001b[0m\n",
      "\u001b[0;31mRuntimeError\u001b[0m: SourceFactory::readXml:\nInput xml file, IDoNotExist.xml not parsed successfully."
     ]
    }
   ],
   "source": [
    "# I should not work\n",
    "analysis = BinnedAnalysis(obs,srcModel='IDoNotExist.xml', optimizer='MINUIT')"
   ]
  },
  {
   "cell_type": "code",
   "execution_count": 7,
   "metadata": {},
   "outputs": [
    {
     "ename": "RuntimeError",
     "evalue": "SourceFactory::readXml:\nInput xml file, 3C279_input_model.xml not parsed successfully.",
     "output_type": "error",
     "traceback": [
      "\u001b[0;31m---------------------------------------------------------------------------\u001b[0m",
      "\u001b[0;31mRuntimeError\u001b[0m                              Traceback (most recent call last)",
      "\u001b[0;32m<ipython-input-7-d68c9cc93d17>\u001b[0m in \u001b[0;36m<module>\u001b[0;34m()\u001b[0m\n\u001b[1;32m      1\u001b[0m \u001b[0;31m# I should also not work, even though I am the same as the one that works.\u001b[0m\u001b[0;34m\u001b[0m\u001b[0;34m\u001b[0m\u001b[0m\n\u001b[0;32m----> 2\u001b[0;31m \u001b[0manalysis\u001b[0m \u001b[0;34m=\u001b[0m \u001b[0mBinnedAnalysis\u001b[0m\u001b[0;34m(\u001b[0m\u001b[0mobs\u001b[0m\u001b[0;34m,\u001b[0m\u001b[0msrcModel\u001b[0m\u001b[0;34m=\u001b[0m\u001b[0;34m'3C279_input_model.xml'\u001b[0m\u001b[0;34m,\u001b[0m \u001b[0moptimizer\u001b[0m\u001b[0;34m=\u001b[0m\u001b[0;34m'MINUIT'\u001b[0m\u001b[0;34m)\u001b[0m\u001b[0;34m\u001b[0m\u001b[0m\n\u001b[0m",
      "\u001b[0;32m/home/fermi/astrosoft/sciencetools/x86_64-unknown-linux-gnu-libc2.12/lib/python/BinnedAnalysis.pyc\u001b[0m in \u001b[0;36m__init__\u001b[0;34m(self, binnedData, srcModel, optimizer, use_bl2, verbosity, psfcorr, wmap, config)\u001b[0m\n\u001b[1;32m    168\u001b[0m         \u001b[0mself\u001b[0m\u001b[0;34m.\u001b[0m\u001b[0mverbosity\u001b[0m \u001b[0;34m=\u001b[0m \u001b[0mverbosity\u001b[0m\u001b[0;34m\u001b[0m\u001b[0m\n\u001b[1;32m    169\u001b[0m         \u001b[0mself\u001b[0m\u001b[0;34m.\u001b[0m\u001b[0mlogLike\u001b[0m\u001b[0;34m.\u001b[0m\u001b[0minitOutputStreams\u001b[0m\u001b[0;34m(\u001b[0m\u001b[0;34m)\u001b[0m\u001b[0;34m\u001b[0m\u001b[0m\n\u001b[0;32m--> 170\u001b[0;31m         \u001b[0mself\u001b[0m\u001b[0;34m.\u001b[0m\u001b[0mlogLike\u001b[0m\u001b[0;34m.\u001b[0m\u001b[0mreadXml\u001b[0m\u001b[0;34m(\u001b[0m\u001b[0msrcModel\u001b[0m\u001b[0;34m,\u001b[0m \u001b[0m_funcFactory\u001b[0m\u001b[0;34m,\u001b[0m \u001b[0mFalse\u001b[0m\u001b[0;34m,\u001b[0m \u001b[0mTrue\u001b[0m\u001b[0;34m,\u001b[0m \u001b[0mFalse\u001b[0m\u001b[0;34m)\u001b[0m\u001b[0;34m\u001b[0m\u001b[0m\n\u001b[0m\u001b[1;32m    171\u001b[0m         \u001b[0mself\u001b[0m\u001b[0;34m.\u001b[0m\u001b[0mmodel\u001b[0m \u001b[0;34m=\u001b[0m \u001b[0mSourceModel\u001b[0m\u001b[0;34m(\u001b[0m\u001b[0mself\u001b[0m\u001b[0;34m.\u001b[0m\u001b[0mlogLike\u001b[0m\u001b[0;34m,\u001b[0m \u001b[0msrcModel\u001b[0m\u001b[0;34m)\u001b[0m\u001b[0;34m\u001b[0m\u001b[0m\n\u001b[1;32m    172\u001b[0m         \u001b[0mself\u001b[0m\u001b[0;34m.\u001b[0m\u001b[0menergies\u001b[0m \u001b[0;34m=\u001b[0m \u001b[0mnum\u001b[0m\u001b[0;34m.\u001b[0m\u001b[0marray\u001b[0m\u001b[0;34m(\u001b[0m\u001b[0mself\u001b[0m\u001b[0;34m.\u001b[0m\u001b[0mlogLike\u001b[0m\u001b[0;34m.\u001b[0m\u001b[0menergies\u001b[0m\u001b[0;34m(\u001b[0m\u001b[0;34m)\u001b[0m\u001b[0;34m)\u001b[0m\u001b[0;34m\u001b[0m\u001b[0m\n",
      "\u001b[0;32m/home/fermi/astrosoft/sciencetools/x86_64-unknown-linux-gnu-libc2.12/lib/python/pyLikelihood.pyc\u001b[0m in \u001b[0;36mreadXml\u001b[0;34m(*args)\u001b[0m\n\u001b[1;32m  12656\u001b[0m         \u001b[0mreadXml\u001b[0m\u001b[0;34m(\u001b[0m\u001b[0mself\u001b[0m\u001b[0;34m,\u001b[0m \u001b[0mstring\u001b[0m \u001b[0mxmlFile\u001b[0m\u001b[0;34m,\u001b[0m \u001b[0mFunctionFactory\u001b[0m \u001b[0mfuncFactory\u001b[0m\u001b[0;34m)\u001b[0m\u001b[0;34m\u001b[0m\u001b[0m\n\u001b[1;32m  12657\u001b[0m         \"\"\"\n\u001b[0;32m> 12658\u001b[0;31m         \u001b[0;32mreturn\u001b[0m \u001b[0mlib_pyLikelihood\u001b[0m\u001b[0;34m.\u001b[0m\u001b[0mBinnedLikelihood_readXml\u001b[0m\u001b[0;34m(\u001b[0m\u001b[0;34m*\u001b[0m\u001b[0margs\u001b[0m\u001b[0;34m)\u001b[0m\u001b[0;34m\u001b[0m\u001b[0m\n\u001b[0m\u001b[1;32m  12659\u001b[0m \u001b[0;34m\u001b[0m\u001b[0m\n\u001b[1;32m  12660\u001b[0m     \u001b[0;32mdef\u001b[0m \u001b[0maddSource\u001b[0m\u001b[0;34m(\u001b[0m\u001b[0;34m*\u001b[0m\u001b[0margs\u001b[0m\u001b[0;34m)\u001b[0m\u001b[0;34m:\u001b[0m\u001b[0;34m\u001b[0m\u001b[0m\n",
      "\u001b[0;31mRuntimeError\u001b[0m: SourceFactory::readXml:\nInput xml file, 3C279_input_model.xml not parsed successfully."
     ]
    }
   ],
   "source": [
    "# I should also not work, even though I am the same as the one that works.\n",
    "analysis = BinnedAnalysis(obs,srcModel='3C279_input_model.xml', optimizer='MINUIT')"
   ]
  },
  {
   "cell_type": "code",
   "execution_count": null,
   "metadata": {},
   "outputs": [],
   "source": []
  }
 ],
 "metadata": {
  "kernelspec": {
   "display_name": "Python 2",
   "language": "python",
   "name": "python2"
  },
  "language_info": {
   "codemirror_mode": {
    "name": "ipython",
    "version": 2
   },
   "file_extension": ".py",
   "mimetype": "text/x-python",
   "name": "python",
   "nbconvert_exporter": "python",
   "pygments_lexer": "ipython2",
   "version": "2.7.14"
  }
 },
 "nbformat": 4,
 "nbformat_minor": 2
}
